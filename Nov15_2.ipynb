{
 "cells": [
  {
   "cell_type": "code",
   "execution_count": null,
   "id": "9330678e",
   "metadata": {},
   "outputs": [],
   "source": [
    "# TensorFlow 中的每一个计算都是计算图上的一个节点，而节点之间的边描述了计算之间的依赖关系。"
   ]
  },
  {
   "cell_type": "code",
   "execution_count": 7,
   "id": "c3abac00",
   "metadata": {},
   "outputs": [],
   "source": [
    "import tensorflow as tf\n",
    "a = tf.constant([1.0,2.0],name = \"a\")\n",
    "b = tf.constant([2.0,3.0],name = \"b\")\n",
    "result = a + b"
   ]
  },
  {
   "cell_type": "code",
   "execution_count": null,
   "id": "69af9ce9",
   "metadata": {},
   "outputs": [],
   "source": [
    "# TensorFlow会自动将定义的计算转化为计算图上的节点.系统会自动维护一个默认的计算图,通过tf.get_default_graph函数可以获取当前默认的计算图."
   ]
  },
  {
   "cell_type": "code",
   "execution_count": null,
   "id": "5d09a3dc",
   "metadata": {},
   "outputs": [],
   "source": []
  }
 ],
 "metadata": {
  "kernelspec": {
   "display_name": "Python 3 (ipykernel)",
   "language": "python",
   "name": "python3"
  },
  "language_info": {
   "codemirror_mode": {
    "name": "ipython",
    "version": 3
   },
   "file_extension": ".py",
   "mimetype": "text/x-python",
   "name": "python",
   "nbconvert_exporter": "python",
   "pygments_lexer": "ipython3",
   "version": "3.9.13"
  }
 },
 "nbformat": 4,
 "nbformat_minor": 5
}
