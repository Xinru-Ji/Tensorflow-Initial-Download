{
 "cells": [
  {
   "cell_type": "code",
   "execution_count": 8,
   "id": "80fe0b4f",
   "metadata": {},
   "outputs": [],
   "source": [
    "# 这是第一个测试程序"
   ]
  },
  {
   "cell_type": "code",
   "execution_count": 26,
   "id": "e1a538f5",
   "metadata": {},
   "outputs": [],
   "source": [
    " import tensorflow as tf"
   ]
  },
  {
   "cell_type": "code",
   "execution_count": 27,
   "id": "6cd5f60f",
   "metadata": {},
   "outputs": [],
   "source": [
    "tf.compat.v1.disable_eager_execution()"
   ]
  },
  {
   "cell_type": "code",
   "execution_count": 28,
   "id": "2870bf74",
   "metadata": {},
   "outputs": [],
   "source": [
    "a = tf.constant([1.0,2.0],name = \"a\")"
   ]
  },
  {
   "cell_type": "code",
   "execution_count": 29,
   "id": "5ce2d9c8",
   "metadata": {},
   "outputs": [],
   "source": [
    "b = tf.constant([2.,3.0],name = \"b\")"
   ]
  },
  {
   "cell_type": "code",
   "execution_count": 30,
   "id": "b0679973",
   "metadata": {},
   "outputs": [],
   "source": [
    "result = a + b"
   ]
  },
  {
   "cell_type": "code",
   "execution_count": 31,
   "id": "149ff38b",
   "metadata": {},
   "outputs": [],
   "source": [
    "sess = tf.compat.v1.Session()"
   ]
  },
  {
   "cell_type": "code",
   "execution_count": 32,
   "id": "4edbdbd5",
   "metadata": {},
   "outputs": [
    {
     "data": {
      "text/plain": [
       "array([3., 5.], dtype=float32)"
      ]
     },
     "execution_count": 32,
     "metadata": {},
     "output_type": "execute_result"
    }
   ],
   "source": [
    "sess.run(result)"
   ]
  }
 ],
 "metadata": {
  "kernelspec": {
   "display_name": "Python 3 (ipykernel)",
   "language": "python",
   "name": "python3"
  },
  "language_info": {
   "codemirror_mode": {
    "name": "ipython",
    "version": 3
   },
   "file_extension": ".py",
   "mimetype": "text/x-python",
   "name": "python",
   "nbconvert_exporter": "python",
   "pygments_lexer": "ipython3",
   "version": "3.9.13"
  }
 },
 "nbformat": 4,
 "nbformat_minor": 5
}
