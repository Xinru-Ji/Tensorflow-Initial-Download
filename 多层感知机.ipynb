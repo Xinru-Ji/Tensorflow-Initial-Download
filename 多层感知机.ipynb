{
 "cells": [
  {
   "cell_type": "code",
   "execution_count": null,
   "id": "c40ff686",
   "metadata": {
    "collapsed": true
   },
   "outputs": [],
   "source": [
    "# 多层感知器"
   ]
  },
  {
   "cell_type": "code",
   "execution_count": null,
   "id": "3fe8efa7",
   "metadata": {},
   "outputs": [],
   "source": [
    "# 单层神经元是有缺陷的，线性组合加上一个偏置，多个神经元都是一层的"
   ]
  },
  {
   "cell_type": "code",
   "execution_count": null,
   "id": "6375299c",
   "metadata": {},
   "outputs": [],
   "source": [
    "# 多个神经元，有很多输入很多输出，如果还是一层，也还是浅层学习"
   ]
  },
  {
   "cell_type": "code",
   "execution_count": null,
   "id": "f9d53098",
   "metadata": {},
   "outputs": [],
   "source": [
    "# 单层神经元的缺陷是无法你和“异或”运算。异或 问题虽然简单，但是\n",
    "# 使用单层的神经元确实没有办法解决。这是因为，神经元要求是数据必须\n",
    "# 是线性可分的，异或 问题无法找到一条直线分割两个类"
   ]
  },
  {
   "cell_type": "code",
   "execution_count": null,
   "id": "0b129899",
   "metadata": {},
   "outputs": [],
   "source": [
    "# 为了解决线性不可分问题，在输入输出之间加如多个层"
   ]
  },
  {
   "cell_type": "code",
   "execution_count": null,
   "id": "ed85cd96",
   "metadata": {},
   "outputs": [],
   "source": []
  }
 ],
 "metadata": {
  "kernelspec": {
   "display_name": "Python 3 (ipykernel)",
   "language": "python",
   "name": "python3"
  },
  "language_info": {
   "codemirror_mode": {
    "name": "ipython",
    "version": 3
   },
   "file_extension": ".py",
   "mimetype": "text/x-python",
   "name": "python",
   "nbconvert_exporter": "python",
   "pygments_lexer": "ipython3",
   "version": "3.9.13"
  }
 },
 "nbformat": 4,
 "nbformat_minor": 5
}
