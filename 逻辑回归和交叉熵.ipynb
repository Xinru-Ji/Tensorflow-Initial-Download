{
 "cells": [
  {
   "cell_type": "code",
   "execution_count": null,
   "id": "5cd247ff",
   "metadata": {},
   "outputs": [],
   "source": [
    "# 线性回归预测的是一个连续值，逻辑回归给出的“是”和“否”的回答"
   ]
  },
  {
   "cell_type": "code",
   "execution_count": null,
   "id": "ed471943",
   "metadata": {},
   "outputs": [],
   "source": [
    "# 实现逻辑回归需要使用Sigmoid函数，Sigmoid函数是一个概率分布函数，\n",
    "# 给定一个输入的时候，它将输出一个概率值。\n",
    "# 用权重和特征的线性组合带入Sigmoid函数，那么会得到一个介于0和1之间\n",
    "# 的数字，我们可以认为当这个值小于0.5时候，我们认为这个输出是个负面\n",
    "# 的值，那么我们可以把0，1的值看作概率值"
   ]
  },
  {
   "cell_type": "code",
   "execution_count": null,
   "id": "c8656b19",
   "metadata": {},
   "outputs": [],
   "source": [
    "# 之所以在异或问题当中我们不可以用mse作为损失函数，是因为我来举个\n",
    "# 例子：比如书在进入sigmoid函数之前，假如是这个值是10，我们把它代\n",
    "# 入sigmoid函数，就会输出0.999954602131，这个跟1做差求平方会变得非\n",
    "# 常的小，这是不利于训练的。需要你训练的时间足够长，训练的次数足够\n",
    "# 多"
   ]
  },
  {
   "cell_type": "code",
   "execution_count": null,
   "id": "c3d4e1ed",
   "metadata": {},
   "outputs": [],
   "source": [
    "# 所以在逻辑回归当中比较适合的损失函数是“交叉熵”。交叉熵是放大\n",
    "# 了误差，或者说是损失，在keras交叉熵中，我们使用binary_crossentropy\n",
    "# 来计算二元交叉熵。"
   ]
  }
 ],
 "metadata": {
  "kernelspec": {
   "display_name": "Python 3 (ipykernel)",
   "language": "python",
   "name": "python3"
  },
  "language_info": {
   "codemirror_mode": {
    "name": "ipython",
    "version": 3
   },
   "file_extension": ".py",
   "mimetype": "text/x-python",
   "name": "python",
   "nbconvert_exporter": "python",
   "pygments_lexer": "ipython3",
   "version": "3.9.13"
  }
 },
 "nbformat": 4,
 "nbformat_minor": 5
}
